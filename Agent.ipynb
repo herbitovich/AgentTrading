{
 "cells": [
  {
   "cell_type": "code",
   "execution_count": 1,
   "id": "b39ed5bf-b682-45dd-b6ff-451dcebf414b",
   "metadata": {},
   "outputs": [
    {
     "data": {
      "text/plain": [
       "<All keys matched successfully>"
      ]
     },
     "execution_count": 1,
     "metadata": {},
     "output_type": "execute_result"
    }
   ],
   "source": [
    "from custom_env import StockTradingEnv\n",
    "import pandas as pd\n",
    "import torch\n",
    "import torch.nn as nn\n",
    "\n",
    "class TrendPredictor(nn.Module):\n",
    "    def __init__(self, window_size, hidden_size):\n",
    "        super(TrendPredictor, self).__init__()\n",
    "        self.window_size = window_size\n",
    "        self.hidden_size = hidden_size\n",
    "        self.LSTM = nn.LSTM(self.window_size, self.hidden_size, batch_first=True)\n",
    "        self.do = nn.Dropout(0.1)\n",
    "        self.fc = nn.Linear(self.hidden_size, 1)\n",
    "    def forward(self, x):\n",
    "        x, _ = self.LSTM(x)\n",
    "        x = self.do(x)\n",
    "        x = self.fc(x)\n",
    "        return x\n",
    "\n",
    "WINDOW_SIZE = 256\n",
    "HIDDEN_SIZE = 512\n",
    "\n",
    "trend_predictor = TrendPredictor(WINDOW_SIZE, HIDDEN_SIZE)\n",
    "trend_predictor.load_state_dict(torch.load(\"LSTM_Trader.pt\"))"
   ]
  },
  {
   "cell_type": "code",
   "execution_count": 2,
   "id": "74c1cd52-3457-4d29-b7c7-025c4f3698ce",
   "metadata": {},
   "outputs": [
    {
     "name": "stdout",
     "output_type": "stream",
     "text": [
      "Using cpu device\n",
      "Wrapping the env with a `Monitor` wrapper\n",
      "Wrapping the env in a DummyVecEnv.\n"
     ]
    },
    {
     "name": "stderr",
     "output_type": "stream",
     "text": [
      "/home/herb/.local/lib/python3.13/site-packages/stable_baselines3/common/vec_env/patch_gym.py:49: UserWarning: You provided an OpenAI Gym environment. We strongly recommend transitioning to Gymnasium environments. Stable-Baselines3 is automatically wrapping your environments in a compatibility layer, which could potentially cause issues.\n",
      "  warnings.warn(\n"
     ]
    },
    {
     "name": "stdout",
     "output_type": "stream",
     "text": [
      "-----------------------------\n",
      "| time/              |      |\n",
      "|    fps             | 41   |\n",
      "|    iterations      | 1    |\n",
      "|    time_elapsed    | 49   |\n",
      "|    total_timesteps | 2048 |\n",
      "-----------------------------\n",
      "------------------------------------------\n",
      "| time/                   |              |\n",
      "|    fps                  | 41           |\n",
      "|    iterations           | 2            |\n",
      "|    time_elapsed         | 99           |\n",
      "|    total_timesteps      | 4096         |\n",
      "| train/                  |              |\n",
      "|    approx_kl            | 0.0013470526 |\n",
      "|    clip_fraction        | 0.000439     |\n",
      "|    clip_range           | 0.2          |\n",
      "|    entropy_loss         | -2.84        |\n",
      "|    explained_variance   | 4.17e-06     |\n",
      "|    learning_rate        | 0.0003       |\n",
      "|    loss                 | 4.48e+05     |\n",
      "|    n_updates            | 10           |\n",
      "|    policy_gradient_loss | -7.01e-05    |\n",
      "|    std                  | 1            |\n",
      "|    value_loss           | 1.62e+06     |\n",
      "------------------------------------------\n",
      "------------------------------------------\n",
      "| rollout/                |              |\n",
      "|    ep_len_mean          | 5.12e+03     |\n",
      "|    ep_rew_mean          | 9.68e+03     |\n",
      "| time/                   |              |\n",
      "|    fps                  | 42           |\n",
      "|    iterations           | 3            |\n",
      "|    time_elapsed         | 143          |\n",
      "|    total_timesteps      | 6144         |\n",
      "| train/                  |              |\n",
      "|    approx_kl            | 0.0013558881 |\n",
      "|    clip_fraction        | 0.00757      |\n",
      "|    clip_range           | 0.2          |\n",
      "|    entropy_loss         | -2.83        |\n",
      "|    explained_variance   | 0.000697     |\n",
      "|    learning_rate        | 0.0003       |\n",
      "|    loss                 | 1.24e+05     |\n",
      "|    n_updates            | 20           |\n",
      "|    policy_gradient_loss | -0.00113     |\n",
      "|    std                  | 0.991        |\n",
      "|    value_loss           | 2.36e+05     |\n",
      "------------------------------------------\n",
      "------------------------------------------\n",
      "| rollout/                |              |\n",
      "|    ep_len_mean          | 5.12e+03     |\n",
      "|    ep_rew_mean          | 9.68e+03     |\n",
      "| time/                   |              |\n",
      "|    fps                  | 42           |\n",
      "|    iterations           | 4            |\n",
      "|    time_elapsed         | 192          |\n",
      "|    total_timesteps      | 8192         |\n",
      "| train/                  |              |\n",
      "|    approx_kl            | 0.0012301723 |\n",
      "|    clip_fraction        | 0.00425      |\n",
      "|    clip_range           | 0.2          |\n",
      "|    entropy_loss         | -2.82        |\n",
      "|    explained_variance   | 0.000172     |\n",
      "|    learning_rate        | 0.0003       |\n",
      "|    loss                 | 6.85e+05     |\n",
      "|    n_updates            | 30           |\n",
      "|    policy_gradient_loss | -0.000917    |\n",
      "|    std                  | 0.989        |\n",
      "|    value_loss           | 1.99e+06     |\n",
      "------------------------------------------\n",
      "------------------------------------------\n",
      "| rollout/                |              |\n",
      "|    ep_len_mean          | 5.12e+03     |\n",
      "|    ep_rew_mean          | 9.68e+03     |\n",
      "| time/                   |              |\n",
      "|    fps                  | 43           |\n",
      "|    iterations           | 5            |\n",
      "|    time_elapsed         | 236          |\n",
      "|    total_timesteps      | 10240        |\n",
      "| train/                  |              |\n",
      "|    approx_kl            | 0.0027995906 |\n",
      "|    clip_fraction        | 0.0177       |\n",
      "|    clip_range           | 0.2          |\n",
      "|    entropy_loss         | -2.81        |\n",
      "|    explained_variance   | 8e-05        |\n",
      "|    learning_rate        | 0.0003       |\n",
      "|    loss                 | 1.4e+05      |\n",
      "|    n_updates            | 40           |\n",
      "|    policy_gradient_loss | -0.00177     |\n",
      "|    std                  | 0.989        |\n",
      "|    value_loss           | 2.85e+05     |\n",
      "------------------------------------------\n"
     ]
    },
    {
     "data": {
      "text/plain": [
       "<stable_baselines3.ppo.ppo.PPO at 0x7f12f50a6510>"
      ]
     },
     "execution_count": 2,
     "metadata": {},
     "output_type": "execute_result"
    }
   ],
   "source": [
    "from stable_baselines3 import PPO\n",
    "#(self, df, trend_predictor, predict_steps=5\n",
    "\n",
    "df = pd.read_csv('dataset/stocks/A.csv')[\"Close\"]\n",
    "env = StockTradingEnv(df, trend_predictor, 10)\n",
    "\n",
    "model = PPO(\"MlpPolicy\", env, verbose=1)\n",
    "model.learn(total_timesteps=10000)\n"
   ]
  },
  {
   "cell_type": "code",
   "execution_count": 3,
   "id": "6d4601a3-320c-47f5-8e51-22ab27d4c172",
   "metadata": {},
   "outputs": [
    {
     "name": "stdout",
     "output_type": "stream",
     "text": [
      "Balance: 0.00\n",
      "Shares: 280.92\n",
      "Portfolio Value: 19361.33\n"
     ]
    }
   ],
   "source": [
    "\n",
    "obs = env.reset()\n",
    "while True:\n",
    "    action, _states = model.predict(obs)\n",
    "    obs, rewards, done, info = env.step(action)\n",
    "    if done:\n",
    "        break\n",
    "env.render()"
   ]
  },
  {
   "cell_type": "code",
   "execution_count": null,
   "id": "74a68da5-f00f-47f9-869d-bd2f6d014d6b",
   "metadata": {},
   "outputs": [],
   "source": [
    "# ну не круто разве) 19к с 10 чел поднял"
   ]
  }
 ],
 "metadata": {
  "kernelspec": {
   "display_name": "project_env",
   "language": "python",
   "name": "project_env"
  },
  "language_info": {
   "codemirror_mode": {
    "name": "ipython",
    "version": 3
   },
   "file_extension": ".py",
   "mimetype": "text/x-python",
   "name": "python",
   "nbconvert_exporter": "python",
   "pygments_lexer": "ipython3",
   "version": "3.13.3"
  }
 },
 "nbformat": 4,
 "nbformat_minor": 5
}
